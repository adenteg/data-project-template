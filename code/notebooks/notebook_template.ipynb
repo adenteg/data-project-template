{
 "cells": [
  {
   "cell_type": "markdown",
   "id": "135173a5-ba66-4e3a-9945-50780a124e65",
   "metadata": {},
   "source": [
    "# Project Name"
   ]
  },
  {
   "cell_type": "markdown",
   "id": "696953a9-c20e-4587-bd4a-7694c48b712f",
   "metadata": {},
   "source": [
    "**Author:** Aden Teghanemt\n",
    "\n",
    "**Last Modified:** 11/17/24\n",
    "\n",
    "**Description:**"
   ]
  },
  {
   "cell_type": "markdown",
   "id": "eda54d1d-981b-44cd-bfaf-3e1ae98e7d36",
   "metadata": {},
   "source": [
    "<br>"
   ]
  },
  {
   "cell_type": "code",
   "execution_count": 1,
   "id": "b4ec41cf-fc56-4cc2-95f4-c91a5d2fb550",
   "metadata": {},
   "outputs": [],
   "source": [
    "import pandas as pd"
   ]
  },
  {
   "cell_type": "code",
   "execution_count": 2,
   "id": "6160c9df-54e2-4051-88d8-2dcc7cd27abe",
   "metadata": {},
   "outputs": [],
   "source": [
    "#load data:"
   ]
  },
  {
   "cell_type": "code",
   "execution_count": null,
   "id": "e0f92b01-6757-4a1f-9166-88316ecbfe3a",
   "metadata": {},
   "outputs": [],
   "source": []
  }
 ],
 "metadata": {
  "kernelspec": {
   "display_name": "Python 3 (ipykernel)",
   "language": "python",
   "name": "python3"
  },
  "language_info": {
   "codemirror_mode": {
    "name": "ipython",
    "version": 3
   },
   "file_extension": ".py",
   "mimetype": "text/x-python",
   "name": "python",
   "nbconvert_exporter": "python",
   "pygments_lexer": "ipython3",
   "version": "3.12.4"
  }
 },
 "nbformat": 4,
 "nbformat_minor": 5
}
